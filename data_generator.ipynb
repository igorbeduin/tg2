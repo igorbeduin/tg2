{
 "cells": [
  {
   "cell_type": "markdown",
   "metadata": {},
   "source": [
    "# Geração do dataset\n",
    "O dataset gerado por este scrip está separado em treino/teste e organizado por classes, pronto para ser utilizado como generator do Tensorflow.\n",
    "Foi criado uma classe Dataset, de onde cada dataset herda uma classe específica. Ex.: o dataset \"covid-chestxray-dataset (<https://github.com/ieee8023/covid-chestxray-dataset>)\" é instanciado pela classe *cohen()*.\n",
    "\n",
    "O pipeline de processamento é:<br>\n",
    "1 - import das bibliotecas<br>\n",
    "2 - instanciação dos objetos de cada dataset<br>\n",
    "3 - Rotina de leitura de cada dataset, aplicando as devidas funções<br>\n",
    "Obs.: nem todos os datasets possuem funções de prefiltragem/posfiltragem. Essas funções foram definidas conforme o processamento feito em <https://github.com/lindawangg/COVID-Net><br>\n",
    "4 - Junção das tabelas de cada ds em uma só (com excessão do RSNA)<br>\n",
    "5.1a - Filtragem das classes de interesse na tabela de imagens<br>\n",
    "5.1b - Separação de imagens específicas para teste, conforme <https://github.com/lindawangg/COVID-Net><br>\n",
    "5.2a - Filtragem das classes de interesse na tabela do RSNA<br>\n",
    "5.2b - Aplica *split* no dataset RSNA<br>\n",
    "6 - Junta as tabelas de treino e teste<br>\n",
    "7 - Monta o dataset no path destino, copiando as imagens que já estão em formato de leitura e escrevendo as imagens em ```.dcm```<br>\n",
    "<br>\n",
    "Obs.: as estapas 3 e 7 podem demorar consideravelmente devido ao dataset RSNA que possui mais de 15k imagens. A fim de verificar a validade do script recomenda-se rodá-lo sem este dataset.<br>\n",
    "<br>\n",
    "As tables ou tabelas referidas nesse script são listas de dicionário do tipo \\[{\"path\": target_path, \"filename\": filename, \"class\": finding, \"url\": url, \"id\": patientid}\\], onde:<br>\n",
    "- target_path = localização da imagem dentro do diretorio do dataset;<br>\n",
    "- filename = nome do arquivo, presente no dataset;<br>\n",
    "- class = classe de classificação da imagem. Ex.: Normal, COVID-19, etc;<br>\n",
    "- url = URL da imagem, usado para detecção de imagens presentes simultaneamente em dois ou mais datasets. Se não há \"url\" no dataset, o valor None é preenchido na tabela;<br>\n",
    "- patientid = utilizado para busca rapida de alguns paciente. Se não há \"patientid\" no dataset, o nome do arquivo sem extensão é utilizado.<br>\n",
    "\n"
   ]
  },
  {
   "cell_type": "markdown",
   "metadata": {},
   "source": [
    "## IMPORT DA LIBS E FUNÇÕES"
   ]
  },
  {
   "cell_type": "code",
   "execution_count": null,
   "metadata": {},
   "outputs": [],
   "source": [
    "import numpy as np\n",
    "import pandas as pd\n",
    "import os\n",
    "import random \n",
    "import pydicom as dicom\n",
    "import cv2"
   ]
  },
  {
   "cell_type": "code",
   "execution_count": null,
   "metadata": {},
   "outputs": [],
   "source": [
    "from datasets import rsna, actualmed, cohen, fig1, sirm\n",
    "from ds_utils import filter_table, split_table, table_info, remove_dupl_field"
   ]
  },
  {
   "cell_type": "markdown",
   "metadata": {},
   "source": [
    "## CONSTROI OS OBJ DE CADA DS"
   ]
  },
  {
   "cell_type": "code",
   "execution_count": null,
   "metadata": {},
   "outputs": [],
   "source": [
    "# datasets_path = os.path.join(os.getcwd(), \"datasets\")\n",
    "datasets_path = \"/home/beduinigor/datasets\"\n",
    "\n",
    "cohen = cohen(datasets_path)\n",
    "rsna = rsna(datasets_path)\n",
    "actualmed = actualmed(datasets_path)\n",
    "fig1 = fig1(datasets_path)\n",
    "sirm = sirm(datasets_path)"
   ]
  },
  {
   "cell_type": "markdown",
   "metadata": {},
   "source": [
    "## LE CADA DS E CONSTROI SUA TABELA APLICANDO AS FUNCOES NECESSARIAS"
   ]
  },
  {
   "cell_type": "code",
   "execution_count": null,
   "metadata": {},
   "outputs": [],
   "source": [
    "datasets = [cohen, actualmed, fig1, sirm, rsna]\n",
    "for ds in datasets:\n",
    "    ds.read()\n",
    "    ds.prefilter()\n",
    "    ds.mount_table()\n",
    "    ds.postfilter()\n",
    "    ds.mount_count_table()\n",
    "    if ds.__name__ is sirm.__name__:\n",
    "        remove_dupl_field(sirm, cohen, \"url\")"
   ]
  },
  {
   "cell_type": "markdown",
   "metadata": {},
   "source": [
    "## JUNTA AS TABELAS EM UMA SÓ"
   ]
  },
  {
   "cell_type": "code",
   "execution_count": null,
   "metadata": {},
   "outputs": [],
   "source": [
    "target_ds = [cohen, actualmed, fig1, sirm]\n",
    "file_table = []\n",
    "for ds in target_ds:\n",
    "    print(f\"Dataset: {ds.__name__.upper()}\")\n",
    "    print(\"-----------------------------------------\")\n",
    "    print(f\"Imagens: {ds.count}\")\n",
    "    print(f\"Contagem de cada classe por dataset: {ds.count_table}\\n\")\n",
    "    file_table += ds.table\n",
    "\n",
    "print(f\"Total de imagens: {len(file_table)}\")"
   ]
  },
  {
   "cell_type": "markdown",
   "metadata": {},
   "source": [
    "## FILTRA A TABELA PARA USO APENAS DAS CLASSES DE INTERESSE\n",
    "Se general_case=\"remove\":<br>\n",
    "    - Se a classe da imagen não está em mapping, a imagem é removida da table<br>\n",
    "Se general_case=\"subst\":<br>\n",
    "    - Se a classe da imagen não está em mapping, a classe da imagem é modificada para o valor em \"std_subst\"<br>\n",
    "        Para este caso é possível passar uma lista ```remove_classes```, assim a classe não presente em mapping será substituída no caso padrão mas será removida da table se estiver presente na lista. <br>\n",
    "        Ex.:<br>\n",
    "        - class = \"blabla\" será atribuída o valor de mapping[\"std_subst\"]<br>\n",
    "        - class = \"todo\" terá a imagem removida da tabela<br>"
   ]
  },
  {
   "cell_type": "code",
   "execution_count": null,
   "metadata": {
    "tags": []
   },
   "outputs": [],
   "source": [
    "mapping = {\"COVID-19\": \"COVID-19\",\n",
    "           \"COVID-19, ARDS\": \"COVID-19\",\n",
    "           \"Normal\": \"Normal\",\n",
    "           \"Pneumonia\": \"Pneumonia\", # OBS.: Linda ignora essa classe\n",
    "           \"SARS\": \"Pneumonia\",\n",
    "           \"MERS\": \"Pneumonia\",\n",
    "           \"Streptococcus\": \"Pneumonia\",\n",
    "           \"Klebsiella\": \"Pneumonia\",\n",
    "           \"Chlamydophila\": \"Pneumonia\",\n",
    "           \"Legionella\": \"Pneumonia\",\n",
    "           \"Lung Opacity\": \"Pneumonia\",\n",
    "           \"1\": \"Pneumonia\",\n",
    "           \"std_subst\": \"Non-COVID\"}\n",
    "# remove_classes = [\"todo\", \"nan\", \"Unknown\"]\n",
    "\n",
    "filtered_table = filter_table(file_table, mapping, general_case=\"remove\")\n",
    "table_info(filtered_table)"
   ]
  },
  {
   "cell_type": "markdown",
   "metadata": {},
   "source": [
    "## SEPARAÇÃO DE TESTES PARA COHEN, FIG1, ACTUALMED E SIRM"
   ]
  },
  {
   "cell_type": "code",
   "execution_count": null,
   "metadata": {},
   "outputs": [],
   "source": [
    "test_patients = {\"Pneumonia\": ['8', '31'],\n",
    "                 \"COVID-19\": ['19', '20', '36', '42', '86', \n",
    "                              '94', '97', '117', '132', \n",
    "                              '138', '144', '150', '163', '169', '174', '175', '179', '190', '191',\n",
    "                              'COVID-00024', 'COVID-00025', 'COVID-00026', 'COVID-00027', 'COVID-00029',\n",
    "                              'COVID-00030', 'COVID-00032', 'COVID-00033', 'COVID-00035', 'COVID-00036',\n",
    "                              'COVID-00037', 'COVID-00038',\n",
    "                              'ANON24', 'ANON45', 'ANON126', 'ANON106', 'ANON67',\n",
    "                              'ANON153', 'ANON135', 'ANON44', 'ANON29', 'ANON201', \n",
    "                              'ANON191', 'ANON234', 'ANON110', 'ANON112', 'ANON73', \n",
    "                              'ANON220', 'ANON189', 'ANON30', 'ANON53', 'ANON46',\n",
    "                              'ANON218', 'ANON240', 'ANON100', 'ANON237', 'ANON158',\n",
    "                              'ANON174', 'ANON19', 'ANON195',\n",
    "                              'COVID-19(119)', 'COVID-19(87)', 'COVID-19(70)', 'COVID-19(94)', \n",
    "                              'COVID-19(215)', 'COVID-19(77)', 'COVID-19(213)', 'COVID-19(81)', \n",
    "                              'COVID-19(216)', 'COVID-19(72)', 'COVID-19(106)', 'COVID-19(131)', \n",
    "                              'COVID-19(107)', 'COVID-19(116)', 'COVID-19(95)', 'COVID-19(214)', \n",
    "                              'COVID-19(129)']}\n",
    "\n",
    "test_table = []\n",
    "train_table = []\n",
    "for row in filtered_table:\n",
    "    if row[\"class\"] in test_patients and row[\"id\"] in test_patients[row[\"class\"]]:\n",
    "        test_table.append(row)\n",
    "    else:\n",
    "        train_table.append(row)\n",
    "    \n",
    "print(f\"\\nTRAIN:\\n-------------------\")\n",
    "table_info(train_table)\n",
    "print(f\"\\nTEST:\\n-------------------\")\n",
    "table_info(test_table)"
   ]
  },
  {
   "cell_type": "markdown",
   "metadata": {},
   "source": [
    "## FILTRAGEM DAS CLASSES DE INTERESSE DO RSNA"
   ]
  },
  {
   "cell_type": "code",
   "execution_count": null,
   "metadata": {},
   "outputs": [],
   "source": [
    "rsna_filtered_table = filter_table(rsna.table, mapping, general_case=\"remove\")\n",
    "table_info(rsna_filtered_table)"
   ]
  },
  {
   "cell_type": "markdown",
   "metadata": {},
   "source": [
    "## SEPARAÇÃO DE TESTES RSNA"
   ]
  },
  {
   "cell_type": "code",
   "execution_count": null,
   "metadata": {},
   "outputs": [],
   "source": [
    "split = 0.2\n",
    "rsna_train, rsna_test = split_table(rsna_filtered_table, split)\n",
    "print(f\"\\nTRAIN:\\n-------------------\")\n",
    "table_info(rsna_train)\n",
    "print(f\"\\nTEST:\\n-------------------\")\n",
    "table_info(rsna_test)"
   ]
  },
  {
   "cell_type": "markdown",
   "metadata": {},
   "source": [
    "## JUNTA AS TABLES DE TESTE E TREINO"
   ]
  },
  {
   "cell_type": "code",
   "execution_count": null,
   "metadata": {},
   "outputs": [],
   "source": [
    "from ds_utils import remove_duplicated\n",
    "\n",
    "train_table += rsna_train\n",
    "test_table += rsna_test\n",
    "\n",
    "print(f\"\\nTRAIN:\\n-------------------\")\n",
    "table_info(train_table)\n",
    "print(f\"\\nTEST:\\n-------------------\")\n",
    "table_info(test_table)"
   ]
  },
  {
   "cell_type": "markdown",
   "metadata": {},
   "source": [
    "# MONTA O DATASET COPIANDO OS ARQUIVOS DA TABLE (SEPARADOS POR CLASSE)"
   ]
  },
  {
   "cell_type": "code",
   "execution_count": null,
   "metadata": {
    "tags": []
   },
   "outputs": [],
   "source": [
    "from ds_utils import mount_dataset\n",
    "\n",
    "mounted_dataset_path = \"./target_dataset\"\n",
    "if not os.path.isdir(mounted_dataset_path):\n",
    "    os.mkdir(mounted_dataset_path)\n",
    "train_path = os.path.join(mounted_dataset_path, \"train\")\n",
    "test_path = os.path.join(mounted_dataset_path, \"test\")\n",
    "\n",
    "print(f\"\\nTRAIN:\\n-------------------\")\n",
    "mount_dataset(train_path, train_table)\n",
    "print(f\"\\nTEST:\\n-------------------\")\n",
    "mount_dataset(test_path, test_table)"
   ]
  },
  {
   "cell_type": "markdown",
   "metadata": {},
   "source": [
    "## TREINAMENTO"
   ]
  },
  {
   "cell_type": "code",
   "execution_count": 1,
   "metadata": {},
   "outputs": [],
   "source": [
    "mounted_dataset_path = \"/media/benchmark/datasets/covidnet/\"\n",
    "image_size = (240, 240)\n",
    "total_training_images = 12460\n",
    "total_test_images = 3080\n",
    "batch_size = 16\n",
    "train_max_batches = int(total_training_images/batch_size)\n",
    "test_max_batches = int(total_test_images/batch_size)\n",
    "color_mode = \"grayscale\"\n",
    "class_mode = \"categorical\"\n"
   ]
  },
  {
   "cell_type": "code",
   "execution_count": 2,
   "metadata": {},
   "outputs": [
    {
     "name": "stdout",
     "output_type": "stream",
     "text": [
      "Found 12460 images belonging to 3 classes.\n",
      "Found 3080 images belonging to 3 classes.\n"
     ]
    }
   ],
   "source": [
    "import tensorflow as tf\n",
    "import os\n",
    "\n",
    "train_datagen = tf.keras.preprocessing.image.ImageDataGenerator(\n",
    "    rescale=1./255,\n",
    "    shear_range=0.1,\n",
    "    zoom_range=0.2,\n",
    "    horizontal_flip=True)\n",
    "test_datagen = tf.keras.preprocessing.image.ImageDataGenerator(\n",
    "    rescale=1./255)\n",
    "\n",
    "train_datagen = train_datagen.flow_from_directory(\n",
    "    os.path.join(mounted_dataset_path, \"train\"),\n",
    "    shuffle=True,\n",
    "    target_size=image_size,\n",
    "    color_mode=color_mode,\n",
    "    batch_size=batch_size)\n",
    "\n",
    "test_datagen = test_datagen.flow_from_directory(\n",
    "    os.path.join(mounted_dataset_path, \"test\"),\n",
    "    shuffle=True,\n",
    "    target_size=image_size,\n",
    "    color_mode=color_mode,\n",
    "    batch_size=batch_size)\n",
    "\n"
   ]
  },
  {
   "cell_type": "code",
   "execution_count": null,
   "metadata": {
    "tags": []
   },
   "outputs": [
    {
     "name": "stdout",
     "output_type": "stream",
     "text": [
      "Creating training array: \n",
      "  Batch: 0\n",
      "  Batch: 1\n",
      "  Batch: 2\n",
      "  Batch: 3\n",
      "  Batch: 4\n",
      "  Batch: 5\n",
      "  Batch: 6\n",
      "  Batch: 7\n",
      "  Batch: 8\n",
      "  Batch: 9\n",
      "  Batch: 10\n",
      "  Batch: 11\n",
      "  Batch: 12\n",
      "  Batch: 13\n",
      "  Batch: 14\n",
      "  Batch: 15\n",
      "  Batch: 16\n",
      "  Batch: 17\n",
      "  Batch: 18\n",
      "  Batch: 19\n",
      "  Batch: 20\n",
      "  Batch: 21\n",
      "  Batch: 22\n",
      "  Batch: 23\n",
      "  Batch: 24\n",
      "  Batch: 25\n",
      "  Batch: 26\n",
      "  Batch: 27\n",
      "  Batch: 28\n",
      "  Batch: 29\n",
      "  Batch: 30\n",
      "  Batch: 31\n",
      "  Batch: 32\n",
      "  Batch: 33\n",
      "  Batch: 34\n",
      "  Batch: 35\n",
      "  Batch: 36\n",
      "  Batch: 37\n",
      "  Batch: 38\n",
      "  Batch: 39\n",
      "  Batch: 40\n",
      "  Batch: 41\n",
      "  Batch: 42\n",
      "  Batch: 43\n",
      "  Batch: 44\n",
      "  Batch: 45\n",
      "  Batch: 46\n",
      "  Batch: 47\n",
      "  Batch: 48\n",
      "  Batch: 49\n",
      "  Batch: 50\n",
      "  Batch: 51\n",
      "  Batch: 52\n",
      "  Batch: 53\n",
      "  Batch: 54\n",
      "  Batch: 55\n",
      "  Batch: 56\n",
      "  Batch: 57\n",
      "  Batch: 58\n",
      "  Batch: 59\n",
      "  Batch: 60\n",
      "  Batch: 61\n",
      "  Batch: 62\n",
      "  Batch: 63\n",
      "  Batch: 64\n",
      "  Batch: 65\n",
      "  Batch: 66\n",
      "  Batch: 67\n",
      "  Batch: 68\n",
      "  Batch: 69\n",
      "  Batch: 70\n",
      "  Batch: 71\n",
      "  Batch: 72\n",
      "  Batch: 73\n",
      "  Batch: 74\n",
      "  Batch: 75\n",
      "  Batch: 76\n",
      "  Batch: 77\n",
      "  Batch: 78\n",
      "  Batch: 79\n",
      "  Batch: 80\n",
      "  Batch: 81\n",
      "  Batch: 82\n",
      "  Batch: 83\n",
      "  Batch: 84\n",
      "  Batch: 85\n",
      "  Batch: 86\n",
      "  Batch: 87\n",
      "  Batch: 88\n",
      "  Batch: 89\n",
      "  Batch: 90\n",
      "  Batch: 91\n",
      "  Batch: 92\n",
      "  Batch: 93\n",
      "  Batch: 94\n",
      "  Batch: 95\n",
      "  Batch: 96\n",
      "  Batch: 97\n",
      "  Batch: 98\n",
      "  Batch: 99\n",
      "  Batch: 100\n",
      "  Batch: 101\n",
      "  Batch: 102\n",
      "  Batch: 103\n",
      "  Batch: 104\n",
      "  Batch: 105\n",
      "  Batch: 106\n",
      "  Batch: 107\n",
      "  Batch: 108\n",
      "  Batch: 109\n",
      "  Batch: 110\n",
      "  Batch: 111\n",
      "  Batch: 112\n",
      "  Batch: 113\n",
      "  Batch: 114\n",
      "  Batch: 115\n",
      "  Batch: 116\n",
      "  Batch: 117\n",
      "  Batch: 118\n",
      "  Batch: 119\n",
      "  Batch: 120\n",
      "  Batch: 121\n",
      "  Batch: 122\n",
      "  Batch: 123\n",
      "  Batch: 124\n",
      "  Batch: 125\n",
      "  Batch: 126\n",
      "  Batch: 127\n",
      "  Batch: 128\n",
      "  Batch: 129\n",
      "  Batch: 130\n",
      "  Batch: 131\n",
      "  Batch: 132\n",
      "  Batch: 133\n",
      "  Batch: 134\n",
      "  Batch: 135\n",
      "  Batch: 136\n",
      "  Batch: 137\n",
      "  Batch: 138\n",
      "  Batch: 139\n",
      "  Batch: 140\n",
      "  Batch: 141\n",
      "  Batch: 142\n",
      "  Batch: 143\n",
      "  Batch: 144\n",
      "  Batch: 145\n",
      "  Batch: 146\n",
      "  Batch: 147\n",
      "  Batch: 148\n",
      "  Batch: 149\n",
      "  Batch: 150\n",
      "  Batch: 151\n",
      "  Batch: 152\n",
      "  Batch: 153\n",
      "  Batch: 154\n",
      "  Batch: 155\n",
      "  Batch: 156\n",
      "  Batch: 157\n",
      "  Batch: 158\n",
      "  Batch: 159\n",
      "  Batch: 160\n",
      "  Batch: 161\n",
      "  Batch: 162\n",
      "  Batch: 163\n",
      "  Batch: 164\n",
      "  Batch: 165\n",
      "  Batch: 166\n",
      "  Batch: 167\n",
      "  Batch: 168\n",
      "  Batch: 169\n",
      "  Batch: 170\n",
      "  Batch: 171\n",
      "  Batch: 172\n",
      "  Batch: 173\n",
      "  Batch: 174\n",
      "  Batch: 175\n",
      "  Batch: 176\n",
      "  Batch: 177\n",
      "  Batch: 178\n",
      "  Batch: 179\n",
      "  Batch: 180\n",
      "  Batch: 181\n",
      "  Batch: 182\n",
      "  Batch: 183\n",
      "  Batch: 184\n",
      "  Batch: 185\n",
      "  Batch: 186\n",
      "  Batch: 187\n",
      "  Batch: 188\n",
      "  Batch: 189\n",
      "  Batch: 190\n",
      "  Batch: 191\n",
      "  Batch: 192\n",
      "  Batch: 193\n",
      "  Batch: 194\n",
      "  Batch: 195\n",
      "  Batch: 196\n",
      "  Batch: 197\n",
      "  Batch: 198\n",
      "  Batch: 199\n",
      "  Batch: 200\n",
      "  Batch: 201\n",
      "  Batch: 202\n",
      "  Batch: 203\n",
      "  Batch: 204\n",
      "  Batch: 205\n",
      "  Batch: 206\n",
      "  Batch: 207\n",
      "  Batch: 208\n",
      "  Batch: 209\n",
      "  Batch: 210\n",
      "  Batch: 211\n",
      "  Batch: 212\n",
      "  Batch: 213\n",
      "  Batch: 214\n",
      "  Batch: 215\n",
      "  Batch: 216\n",
      "  Batch: 217\n",
      "  Batch: 218\n",
      "  Batch: 219\n",
      "  Batch: 220\n",
      "  Batch: 221\n",
      "  Batch: 222\n",
      "  Batch: 223\n",
      "  Batch: 224\n",
      "  Batch: 225\n",
      "  Batch: 226\n",
      "  Batch: 227\n",
      "  Batch: 228\n",
      "  Batch: 229\n"
     ]
    }
   ],
   "source": [
    "import numpy as np\n",
    "\n",
    "x_train = []\n",
    "y_train = []\n",
    "\n",
    "x_test = []\n",
    "y_test = []\n",
    "\n",
    "print(\"Creating training array: \")\n",
    "for i in range(train_max_batches):\n",
    "    print(f\"  Batch: {i}\")\n",
    "    batch = train_datagen.next()\n",
    "    x_train.extend(batch[0])\n",
    "    y_train.extend(batch[1])\n",
    "x_train = np.array(x_train)\n",
    "y_train = np.array(y_train)\n",
    "\n",
    "\n",
    "print(\"\\nCreating test array:\")\n",
    "for i in range(test_max_batches):\n",
    "    print(f\"  Batch: {i}\")\n",
    "    batch = test_datagen.next()\n",
    "    x_test.extend(batch[0])\n",
    "    y_test.extend(batch[1])\n",
    "x_test = np.array(x_test)\n",
    "y_test = np.array(y_test)\n"
   ]
  },
  {
   "cell_type": "code",
   "execution_count": null,
   "metadata": {},
   "outputs": [],
   "source": [
    "print(\"TRAIN\\n----------\")\n",
    "print(x_train.shape)\n",
    "print(y_train.shape)\n",
    "print(\"\\nTEST\\n----------\")\n",
    "print(x_test.shape)\n",
    "print(y_test.shape)"
   ]
  },
  {
   "cell_type": "code",
   "execution_count": null,
   "metadata": {},
   "outputs": [],
   "source": [
    "import tensorflow as tf\n",
    "\n",
    "#tb_log_dir = \"/media/training/covidnet/tensorboard\"\n",
    "#checkpoint_path = \"/media/training/covidnet/checkpoints/weights.{epoch:02d}-{val_loss:.2f}.hdf5\"\n",
    "\n",
    "tb_log_dir = \"/home/beduinigor/tg2_COVIDNet/tensorboard\"\n",
    "checkpoint_path = \"/home/beduinigor/tg2_COVIDNet/checkpoints/weights.epoch:{epoch:02d}-acc:{accuracy:.2f}.h5\"\n",
    "checkpoint_epochs = 7780\n",
    "\n",
    "early_stopping = tf.keras.callbacks.EarlyStopping(\n",
    "                    monitor=\"val_loss\",\n",
    "                    min_delta=0,\n",
    "                    patience=20,\n",
    "                    verbose=1,\n",
    "                    mode=\"auto\",\n",
    "                    baseline=None,\n",
    "                    restore_best_weights=True)\n",
    "\n",
    "tensorboard = tf.keras.callbacks.TensorBoard(\n",
    "                    log_dir=tb_log_dir,\n",
    "                    histogram_freq=0,\n",
    "                    write_graph=True,\n",
    "                    write_images=False,\n",
    "                    update_freq=\"epoch\",\n",
    "                    profile_batch=2,\n",
    "                    embeddings_freq=0,\n",
    "                    embeddings_metadata=None)\n",
    "\n",
    "checkpoint = tf.keras.callbacks.ModelCheckpoint(\n",
    "                    checkpoint_path,\n",
    "                    monitor=\"val_loss\",\n",
    "                    verbose=1,\n",
    "                    save_best_only=True,\n",
    "                    save_weights_only=False,\n",
    "                    mode=\"auto\",\n",
    "                    save_freq=checkpoint_epochs,\n",
    "                    options=None)\n",
    "\n",
    "callbacks = [early_stopping, tensorboard, checkpoint]"
   ]
  },
  {
   "cell_type": "code",
   "execution_count": null,
   "metadata": {},
   "outputs": [],
   "source": [
    "import autokeras as ak\n",
    "\n",
    "input_node = ak.ImageInput()\n",
    "output_node = ak.ImageBlock(\n",
    "    # Only search ResNet architectures.\n",
    "    block_type=\"resnet\",\n",
    "    # Normalize the dataset.\n",
    "    normalize=False,\n",
    "    # Do not do data augmentation.\n",
    "    augment=False,\n",
    ")(input_node)\n",
    "output_node = ak.ClassificationHead()(output_node)\n",
    "\n",
    "model = ak.AutoModel(\n",
    "    inputs=input_node, \n",
    "    outputs=output_node,\n",
    "    overwrite=False,\n",
    "    max_trials=5)\n",
    "\n",
    "model.fit(\n",
    "    x=x_train,\n",
    "    y=y_train,\n",
    "    batch_size=batch_size,\n",
    "    callbacks=callbacks,\n",
    "    validation_split=0.2, \n",
    "    epochs=100,\n",
    "    verbose=1)"
   ]
  },
  {
   "cell_type": "code",
   "execution_count": null,
   "metadata": {},
   "outputs": [],
   "source": [
    "trained_model = model.export_model()"
   ]
  },
  {
   "cell_type": "code",
   "execution_count": null,
   "metadata": {},
   "outputs": [],
   "source": [
    "trained_model.save(\"checkpoints/final_model.h5\")"
   ]
  },
  {
   "cell_type": "markdown",
   "metadata": {},
   "source": [
    "## LEITURA DE PESOS"
   ]
  },
  {
   "cell_type": "markdown",
   "metadata": {},
   "source": [
    "from tensorflow.keras.models import load_model\n",
    "import os\n",
    "\n",
    "checkpoints_path = \"/home/beduinigor/tg2_COVIDNet/checkpoints\"\n",
    "auto_model_path = \"/media/training/covidnet/auto_model\"\n",
    "            \n",
    "    \n",
    "for cp in os.listdir(checkpoints_path):\n",
    "    loaded_model = load_model(os.path.join(checkpoints_path, cp))\n",
    "    predicted_y = loaded_model.predict(x_test)\n",
    "    print(predicted_y)"
   ]
  },
  {
   "cell_type": "code",
   "execution_count": null,
   "metadata": {},
   "outputs": [],
   "source": []
  }
 ],
 "metadata": {
  "kernelspec": {
   "display_name": "covidnet_igor",
   "language": "python",
   "name": "covidnet_igor"
  },
  "language_info": {
   "codemirror_mode": {
    "name": "ipython",
    "version": 3
   },
   "file_extension": ".py",
   "mimetype": "text/x-python",
   "name": "python",
   "nbconvert_exporter": "python",
   "pygments_lexer": "ipython3",
   "version": "3.6.9"
  }
 },
 "nbformat": 4,
 "nbformat_minor": 4
}
