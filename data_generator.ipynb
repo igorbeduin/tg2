{
 "cells": [
  {
   "source": [
    "IMPORTS DAS BIBLIOTECAS"
   ],
   "cell_type": "markdown",
   "metadata": {}
  },
  {
   "cell_type": "code",
   "execution_count": 1,
   "metadata": {},
   "outputs": [],
   "source": [
    "import numpy as np\n",
    "import pandas as pd\n",
    "import os\n",
    "import random \n",
    "from shutil import copyfile\n",
    "import pydicom as dicom\n",
    "import cv2"
   ]
  },
  {
   "source": [
    "IMPORT DAS CLASSES ESPECÍFICAS"
   ],
   "cell_type": "markdown",
   "metadata": {}
  },
  {
   "cell_type": "code",
   "execution_count": 2,
   "metadata": {},
   "outputs": [],
   "source": [
    "from datasets import rsna, actualmed, cohen, fig1, sirm"
   ]
  },
  {
   "cell_type": "code",
   "execution_count": 3,
   "metadata": {},
   "outputs": [],
   "source": [
    "datasets_path = os.path.join(os.getcwd(), \"datasets\")\n",
    "\n",
    "cohen = cohen(datasets_path)\n",
    "rsna = rsna(datasets_path)\n",
    "actualmed = actualmed(datasets_path)\n",
    "fig1 = fig1(datasets_path)\n",
    "sirm = sirm(datasets_path)"
   ]
  },
  {
   "cell_type": "code",
   "execution_count": 4,
   "metadata": {},
   "outputs": [],
   "source": [
    "split = 0.2\n",
    "file_table = []\n",
    "datasets = [rsna, actualmed, cohen, fig1, sirm]\n",
    "for ds in datasets:\n",
    "    ds.read()\n",
    "    ds.filter()\n",
    "    ds.mount_table()\n",
    "    for item in ds.table: file_table.append(item)\n",
    "\n"
   ]
  },
  {
   "cell_type": "code",
   "execution_count": 5,
   "metadata": {
    "tags": [
     "outputPrepend"
    ]
   },
   "outputs": [
    {
     "output_type": "stream",
     "name": "stdout",
     "text": [
      "Radiography Database/Viral Pneumonia', 'filename': None, 'class': 'Viral Pneumonia'}, {'path': '/Users/igorbeduin/Google Drive/tg2_COVIDNet/datasets/COVID-19 Radiography Database/Viral Pneumonia', 'filename': None, 'class': 'Viral Pneumonia'}, {'path': '/Users/igorbeduin/Google Drive/tg2_COVIDNet/datasets/COVID-19 Radiography Database/Viral Pneumonia', 'filename': None, 'class': 'Viral Pneumonia'}, {'path': '/Users/igorbeduin/Google Drive/tg2_COVIDNet/datasets/COVID-19 Radiography Database/Viral Pneumonia', 'filename': None, 'class': 'Viral Pneumonia'}, {'path': '/Users/igorbeduin/Google Drive/tg2_COVIDNet/datasets/COVID-19 Radiography Database/Viral Pneumonia', 'filename': None, 'class': 'Viral Pneumonia'}, {'path': '/Users/igorbeduin/Google Drive/tg2_COVIDNet/datasets/COVID-19 Radiography Database/Viral Pneumonia', 'filename': None, 'class': 'Viral Pneumonia'}, {'path': '/Users/igorbeduin/Google Drive/tg2_COVIDNet/datasets/COVID-19 Radiography Database/Viral Pneumonia', 'filename': None, 'class': 'Viral Pneumonia'}, {'path': '/Users/igorbeduin/Google Drive/tg2_COVIDNet/datasets/COVID-19 Radiography Database/Viral Pneumonia', 'filename': None, 'class': 'Viral Pneumonia'}, {'path': '/Users/igorbeduin/Google Drive/tg2_COVIDNet/datasets/COVID-19 Radiography Database/Viral Pneumonia', 'filename': None, 'class': 'Viral Pneumonia'}, {'path': '/Users/igorbeduin/Google Drive/tg2_COVIDNet/datasets/COVID-19 Radiography Database/Viral Pneumonia', 'filename': None, 'class': 'Viral Pneumonia'}, {'path': '/Users/igorbeduin/Google Drive/tg2_COVIDNet/datasets/COVID-19 Radiography Database/Viral Pneumonia', 'filename': None, 'class': 'Viral Pneumonia'}, {'path': '/Users/igorbeduin/Google Drive/tg2_COVIDNet/datasets/COVID-19 Radiography Database/Viral Pneumonia', 'filename': None, 'class': 'Viral Pneumonia'}, {'path': '/Users/igorbeduin/Google Drive/tg2_COVIDNet/datasets/COVID-19 Radiography Database/Viral Pneumonia', 'filename': None, 'class': 'Viral Pneumonia'}, {'path': '/Users/igorbeduin/Google Drive/tg2_COVIDNet/datasets/COVID-19 Radiography Database/Viral Pneumonia', 'filename': None, 'class': 'Viral Pneumonia'}, {'path': '/Users/igorbeduin/Google Drive/tg2_COVIDNet/datasets/COVID-19 Radiography Database/Viral Pneumonia', 'filename': None, 'class': 'Viral Pneumonia'}, {'path': '/Users/igorbeduin/Google Drive/tg2_COVIDNet/datasets/COVID-19 Radiography Database/Viral Pneumonia', 'filename': None, 'class': 'Viral Pneumonia'}, {'path': '/Users/igorbeduin/Google Drive/tg2_COVIDNet/datasets/COVID-19 Radiography Database/Viral Pneumonia', 'filename': None, 'class': 'Viral Pneumonia'}, {'path': '/Users/igorbeduin/Google Drive/tg2_COVIDNet/datasets/COVID-19 Radiography Database/Viral Pneumonia', 'filename': None, 'class': 'Viral Pneumonia'}, {'path': '/Users/igorbeduin/Google Drive/tg2_COVIDNet/datasets/COVID-19 Radiography Database/Viral Pneumonia', 'filename': None, 'class': 'Viral Pneumonia'}, {'path': '/Users/igorbeduin/Google Drive/tg2_COVIDNet/datasets/COVID-19 Radiography Database/Viral Pneumonia', 'filename': None, 'class': 'Viral Pneumonia'}, {'path': '/Users/igorbeduin/Google Drive/tg2_COVIDNet/datasets/COVID-19 Radiography Database/Viral Pneumonia', 'filename': None, 'class': 'Viral Pneumonia'}, {'path': '/Users/igorbeduin/Google Drive/tg2_COVIDNet/datasets/COVID-19 Radiography Database/Viral Pneumonia', 'filename': None, 'class': 'Viral Pneumonia'}, {'path': '/Users/igorbeduin/Google Drive/tg2_COVIDNet/datasets/COVID-19 Radiography Database/Viral Pneumonia', 'filename': None, 'class': 'Viral Pneumonia'}, {'path': '/Users/igorbeduin/Google Drive/tg2_COVIDNet/datasets/COVID-19 Radiography Database/Viral Pneumonia', 'filename': None, 'class': 'Viral Pneumonia'}, {'path': '/Users/igorbeduin/Google Drive/tg2_COVIDNet/datasets/COVID-19 Radiography Database/Viral Pneumonia', 'filename': None, 'class': 'Viral Pneumonia'}, {'path': '/Users/igorbeduin/Google Drive/tg2_COVIDNet/datasets/COVID-19 Radiography Database/Viral Pneumonia', 'filename': None, 'class': 'Viral Pneumonia'}, {'path': '/Users/igorbeduin/Google Drive/tg2_COVIDNet/datasets/COVID-19 Radiography Database/Viral Pneumonia', 'filename': None, 'class': 'Viral Pneumonia'}, {'path': '/Users/igorbeduin/Google Drive/tg2_COVIDNet/datasets/COVID-19 Radiography Database/Viral Pneumonia', 'filename': None, 'class': 'Viral Pneumonia'}, {'path': '/Users/igorbeduin/Google Drive/tg2_COVIDNet/datasets/COVID-19 Radiography Database/Viral Pneumonia', 'filename': None, 'class': 'Viral Pneumonia'}, {'path': '/Users/igorbeduin/Google Drive/tg2_COVIDNet/datasets/COVID-19 Radiography Database/Viral Pneumonia', 'filename': None, 'class': 'Viral Pneumonia'}, {'path': '/Users/igorbeduin/Google Drive/tg2_COVIDNet/datasets/COVID-19 Radiography Database/Viral Pneumonia', 'filename': None, 'class': 'Viral Pneumonia'}, {'path': '/Users/igorbeduin/Google Drive/tg2_COVIDNet/datasets/COVID-19 Radiography Database/Viral Pneumonia', 'filename': None, 'class': 'Viral Pneumonia'}, {'path': '/Users/igorbeduin/Google Drive/tg2_COVIDNet/datasets/COVID-19 Radiography Database/Viral Pneumonia', 'filename': None, 'class': 'Viral Pneumonia'}, {'path': '/Users/igorbeduin/Google Drive/tg2_COVIDNet/datasets/COVID-19 Radiography Database/Viral Pneumonia', 'filename': None, 'class': 'Viral Pneumonia'}, {'path': '/Users/igorbeduin/Google Drive/tg2_COVIDNet/datasets/COVID-19 Radiography Database/Viral Pneumonia', 'filename': None, 'class': 'Viral Pneumonia'}, {'path': '/Users/igorbeduin/Google Drive/tg2_COVIDNet/datasets/COVID-19 Radiography Database/Viral Pneumonia', 'filename': None, 'class': 'Viral Pneumonia'}, {'path': '/Users/igorbeduin/Google Drive/tg2_COVIDNet/datasets/COVID-19 Radiography Database/Viral Pneumonia', 'filename': None, 'class': 'Viral Pneumonia'}, {'path': '/Users/igorbeduin/Google Drive/tg2_COVIDNet/datasets/COVID-19 Radiography Database/Viral Pneumonia', 'filename': None, 'class': 'Viral Pneumonia'}, {'path': '/Users/igorbeduin/Google Drive/tg2_COVIDNet/datasets/COVID-19 Radiography Database/Viral Pneumonia', 'filename': None, 'class': 'Viral Pneumonia'}, {'path': '/Users/igorbeduin/Google Drive/tg2_COVIDNet/datasets/COVID-19 Radiography Database/Viral Pneumonia', 'filename': None, 'class': 'Viral Pneumonia'}, {'path': '/Users/igorbeduin/Google Drive/tg2_COVIDNet/datasets/COVID-19 Radiography Database/Viral Pneumonia', 'filename': None, 'class': 'Viral Pneumonia'}, {'path': '/Users/igorbeduin/Google Drive/tg2_COVIDNet/datasets/COVID-19 Radiography Database/Viral Pneumonia', 'filename': None, 'class': 'Viral Pneumonia'}, {'path': '/Users/igorbeduin/Google Drive/tg2_COVIDNet/datasets/COVID-19 Radiography Database/Viral Pneumonia', 'filename': None, 'class': 'Viral Pneumonia'}, {'path': '/Users/igorbeduin/Google Drive/tg2_COVIDNet/datasets/COVID-19 Radiography Database/Viral Pneumonia', 'filename': None, 'class': 'Viral Pneumonia'}, {'path': '/Users/igorbeduin/Google Drive/tg2_COVIDNet/datasets/COVID-19 Radiography Database/Viral Pneumonia', 'filename': None, 'class': 'Viral Pneumonia'}, {'path': '/Users/igorbeduin/Google Drive/tg2_COVIDNet/datasets/COVID-19 Radiography Database/Viral Pneumonia', 'filename': None, 'class': 'Viral Pneumonia'}, {'path': '/Users/igorbeduin/Google Drive/tg2_COVIDNet/datasets/COVID-19 Radiography Database/Viral Pneumonia', 'filename': None, 'class': 'Viral Pneumonia'}, {'path': '/Users/igorbeduin/Google Drive/tg2_COVIDNet/datasets/COVID-19 Radiography Database/Viral Pneumonia', 'filename': None, 'class': 'Viral Pneumonia'}, {'path': '/Users/igorbeduin/Google Drive/tg2_COVIDNet/datasets/COVID-19 Radiography Database/Viral Pneumonia', 'filename': None, 'class': 'Viral Pneumonia'}, {'path': '/Users/igorbeduin/Google Drive/tg2_COVIDNet/datasets/COVID-19 Radiography Database/Viral Pneumonia', 'filename': None, 'class': 'Viral Pneumonia'}, {'path': '/Users/igorbeduin/Google Drive/tg2_COVIDNet/datasets/COVID-19 Radiography Database/Viral Pneumonia', 'filename': None, 'class': 'Viral Pneumonia'}, {'path': '/Users/igorbeduin/Google Drive/tg2_COVIDNet/datasets/COVID-19 Radiography Database/Viral Pneumonia', 'filename': None, 'class': 'Viral Pneumonia'}, {'path': '/Users/igorbeduin/Google Drive/tg2_COVIDNet/datasets/COVID-19 Radiography Database/Viral Pneumonia', 'filename': None, 'class': 'Viral Pneumonia'}, {'path': '/Users/igorbeduin/Google Drive/tg2_COVIDNet/datasets/COVID-19 Radiography Database/Viral Pneumonia', 'filename': None, 'class': 'Viral Pneumonia'}, {'path': '/Users/igorbeduin/Google Drive/tg2_COVIDNet/datasets/COVID-19 Radiography Database/Viral Pneumonia', 'filename': None, 'class': 'Viral Pneumonia'}, {'path': '/Users/igorbeduin/Google Drive/tg2_COVIDNet/datasets/COVID-19 Radiography Database/Viral Pneumonia', 'filename': None, 'class': 'Viral Pneumonia'}, {'path': '/Users/igorbeduin/Google Drive/tg2_COVIDNet/datasets/COVID-19 Radiography Database/Viral Pneumonia', 'filename': None, 'class': 'Viral Pneumonia'}, {'path': '/Users/igorbeduin/Google Drive/tg2_COVIDNet/datasets/COVID-19 Radiography Database/Viral Pneumonia', 'filename': None, 'class': 'Viral Pneumonia'}, {'path': '/Users/igorbeduin/Google Drive/tg2_COVIDNet/datasets/COVID-19 Radiography Database/Viral Pneumonia', 'filename': None, 'class': 'Viral Pneumonia'}, {'path': '/Users/igorbeduin/Google Drive/tg2_COVIDNet/datasets/COVID-19 Radiography Database/Viral Pneumonia', 'filename': None, 'class': 'Viral Pneumonia'}, {'path': '/Users/igorbeduin/Google Drive/tg2_COVIDNet/datasets/COVID-19 Radiography Database/Viral Pneumonia', 'filename': None, 'class': 'Viral Pneumonia'}, {'path': '/Users/igorbeduin/Google Drive/tg2_COVIDNet/datasets/COVID-19 Radiography Database/Viral Pneumonia', 'filename': None, 'class': 'Viral Pneumonia'}, {'path': '/Users/igorbeduin/Google Drive/tg2_COVIDNet/datasets/COVID-19 Radiography Database/Viral Pneumonia', 'filename': None, 'class': 'Viral Pneumonia'}, {'path': '/Users/igorbeduin/Google Drive/tg2_COVIDNet/datasets/COVID-19 Radiography Database/Viral Pneumonia', 'filename': None, 'class': 'Viral Pneumonia'}, {'path': '/Users/igorbeduin/Google Drive/tg2_COVIDNet/datasets/COVID-19 Radiography Database/Viral Pneumonia', 'filename': None, 'class': 'Viral Pneumonia'}, {'path': '/Users/igorbeduin/Google Drive/tg2_COVIDNet/datasets/COVID-19 Radiography Database/Viral Pneumonia', 'filename': None, 'class': 'Viral Pneumonia'}, {'path': '/Users/igorbeduin/Google Drive/tg2_COVIDNet/datasets/COVID-19 Radiography Database/Viral Pneumonia', 'filename': None, 'class': 'Viral Pneumonia'}, {'path': '/Users/igorbeduin/Google Drive/tg2_COVIDNet/datasets/COVID-19 Radiography Database/Viral Pneumonia', 'filename': None, 'class': 'Viral Pneumonia'}, {'path': '/Users/igorbeduin/Google Drive/tg2_COVIDNet/datasets/COVID-19 Radiography Database/Viral Pneumonia', 'filename': None, 'class': 'Viral Pneumonia'}, {'path': '/Users/igorbeduin/Google Drive/tg2_COVIDNet/datasets/COVID-19 Radiography Database/Viral Pneumonia', 'filename': None, 'class': 'Viral Pneumonia'}, {'path': '/Users/igorbeduin/Google Drive/tg2_COVIDNet/datasets/COVID-19 Radiography Database/Viral Pneumonia', 'filename': None, 'class': 'Viral Pneumonia'}, {'path': '/Users/igorbeduin/Google Drive/tg2_COVIDNet/datasets/COVID-19 Radiography Database/Viral Pneumonia', 'filename': None, 'class': 'Viral Pneumonia'}, {'path': '/Users/igorbeduin/Google Drive/tg2_COVIDNet/datasets/COVID-19 Radiography Database/Viral Pneumonia', 'filename': None, 'class': 'Viral Pneumonia'}, {'path': '/Users/igorbeduin/Google Drive/tg2_COVIDNet/datasets/COVID-19 Radiography Database/Viral Pneumonia', 'filename': None, 'class': 'Viral Pneumonia'}, {'path': '/Users/igorbeduin/Google Drive/tg2_COVIDNet/datasets/COVID-19 Radiography Database/Viral Pneumonia', 'filename': None, 'class': 'Viral Pneumonia'}, {'path': '/Users/igorbeduin/Google Drive/tg2_COVIDNet/datasets/COVID-19 Radiography Database/Viral Pneumonia', 'filename': None, 'class': 'Viral Pneumonia'}, {'path': '/Users/igorbeduin/Google Drive/tg2_COVIDNet/datasets/COVID-19 Radiography Database/Viral Pneumonia', 'filename': None, 'class': 'Viral Pneumonia'}, {'path': '/Users/igorbeduin/Google Drive/tg2_COVIDNet/datasets/COVID-19 Radiography Database/Viral Pneumonia', 'filename': None, 'class': 'Viral Pneumonia'}, {'path': '/Users/igorbeduin/Google Drive/tg2_COVIDNet/datasets/COVID-19 Radiography Database/Viral Pneumonia', 'filename': None, 'class': 'Viral Pneumonia'}, {'path': '/Users/igorbeduin/Google Drive/tg2_COVIDNet/datasets/COVID-19 Radiography Database/Viral Pneumonia', 'filename': None, 'class': 'Viral Pneumonia'}, {'path': '/Users/igorbeduin/Google Drive/tg2_COVIDNet/datasets/COVID-19 Radiography Database/Viral Pneumonia', 'filename': None, 'class': 'Viral Pneumonia'}, {'path': '/Users/igorbeduin/Google Drive/tg2_COVIDNet/datasets/COVID-19 Radiography Database/Viral Pneumonia', 'filename': None, 'class': 'Viral Pneumonia'}, {'path': '/Users/igorbeduin/Google Drive/tg2_COVIDNet/datasets/COVID-19 Radiography Database/Viral Pneumonia', 'filename': None, 'class': 'Viral Pneumonia'}, {'path': '/Users/igorbeduin/Google Drive/tg2_COVIDNet/datasets/COVID-19 Radiography Database/Viral Pneumonia', 'filename': None, 'class': 'Viral Pneumonia'}, {'path': '/Users/igorbeduin/Google Drive/tg2_COVIDNet/datasets/COVID-19 Radiography Database/Viral Pneumonia', 'filename': None, 'class': 'Viral Pneumonia'}, {'path': '/Users/igorbeduin/Google Drive/tg2_COVIDNet/datasets/COVID-19 Radiography Database/Viral Pneumonia', 'filename': None, 'class': 'Viral Pneumonia'}, {'path': '/Users/igorbeduin/Google Drive/tg2_COVIDNet/datasets/COVID-19 Radiography Database/Viral Pneumonia', 'filename': None, 'class': 'Viral Pneumonia'}, {'path': '/Users/igorbeduin/Google Drive/tg2_COVIDNet/datasets/COVID-19 Radiography Database/Viral Pneumonia', 'filename': None, 'class': 'Viral Pneumonia'}, {'path': '/Users/igorbeduin/Google Drive/tg2_COVIDNet/datasets/COVID-19 Radiography Database/Viral Pneumonia', 'filename': None, 'class': 'Viral Pneumonia'}, {'path': '/Users/igorbeduin/Google Drive/tg2_COVIDNet/datasets/COVID-19 Radiography Database/Viral Pneumonia', 'filename': None, 'class': 'Viral Pneumonia'}, {'path': '/Users/igorbeduin/Google Drive/tg2_COVIDNet/datasets/COVID-19 Radiography Database/Viral Pneumonia', 'filename': None, 'class': 'Viral Pneumonia'}, {'path': '/Users/igorbeduin/Google Drive/tg2_COVIDNet/datasets/COVID-19 Radiography Database/Viral Pneumonia', 'filename': None, 'class': 'Viral Pneumonia'}, {'path': '/Users/igorbeduin/Google Drive/tg2_COVIDNet/datasets/COVID-19 Radiography Database/Viral Pneumonia', 'filename': None, 'class': 'Viral Pneumonia'}, {'path': '/Users/igorbeduin/Google Drive/tg2_COVIDNet/datasets/COVID-19 Radiography Database/Viral Pneumonia', 'filename': None, 'class': 'Viral Pneumonia'}, {'path': '/Users/igorbeduin/Google Drive/tg2_COVIDNet/datasets/COVID-19 Radiography Database/Viral Pneumonia', 'filename': None, 'class': 'Viral Pneumonia'}, {'path': '/Users/igorbeduin/Google Drive/tg2_COVIDNet/datasets/COVID-19 Radiography Database/Viral Pneumonia', 'filename': None, 'class': 'Viral Pneumonia'}, {'path': '/Users/igorbeduin/Google Drive/tg2_COVIDNet/datasets/COVID-19 Radiography Database/Viral Pneumonia', 'filename': None, 'class': 'Viral Pneumonia'}, {'path': '/Users/igorbeduin/Google Drive/tg2_COVIDNet/datasets/COVID-19 Radiography Database/Viral Pneumonia', 'filename': None, 'class': 'Viral Pneumonia'}, {'path': '/Users/igorbeduin/Google Drive/tg2_COVIDNet/datasets/COVID-19 Radiography Database/Viral Pneumonia', 'filename': None, 'class': 'Viral Pneumonia'}, {'path': '/Users/igorbeduin/Google Drive/tg2_COVIDNet/datasets/COVID-19 Radiography Database/Viral Pneumonia', 'filename': None, 'class': 'Viral Pneumonia'}, {'path': '/Users/igorbeduin/Google Drive/tg2_COVIDNet/datasets/COVID-19 Radiography Database/Viral Pneumonia', 'filename': None, 'class': 'Viral Pneumonia'}, {'path': '/Users/igorbeduin/Google Drive/tg2_COVIDNet/datasets/COVID-19 Radiography Database/Viral Pneumonia', 'filename': None, 'class': 'Viral Pneumonia'}, {'path': '/Users/igorbeduin/Google Drive/tg2_COVIDNet/datasets/COVID-19 Radiography Database/Viral Pneumonia', 'filename': None, 'class': 'Viral Pneumonia'}, {'path': '/Users/igorbeduin/Google Drive/tg2_COVIDNet/datasets/COVID-19 Radiography Database/Viral Pneumonia', 'filename': None, 'class': 'Viral Pneumonia'}, {'path': '/Users/igorbeduin/Google Drive/tg2_COVIDNet/datasets/COVID-19 Radiography Database/Viral Pneumonia', 'filename': None, 'class': 'Viral Pneumonia'}, {'path': '/Users/igorbeduin/Google Drive/tg2_COVIDNet/datasets/COVID-19 Radiography Database/Viral Pneumonia', 'filename': None, 'class': 'Viral Pneumonia'}, {'path': '/Users/igorbeduin/Google Drive/tg2_COVIDNet/datasets/COVID-19 Radiography Database/Viral Pneumonia', 'filename': None, 'class': 'Viral Pneumonia'}, {'path': '/Users/igorbeduin/Google Drive/tg2_COVIDNet/datasets/COVID-19 Radiography Database/Viral Pneumonia', 'filename': None, 'class': 'Viral Pneumonia'}, {'path': '/Users/igorbeduin/Google Drive/tg2_COVIDNet/datasets/COVID-19 Radiography Database/Viral Pneumonia', 'filename': None, 'class': 'Viral Pneumonia'}, {'path': '/Users/igorbeduin/Google Drive/tg2_COVIDNet/datasets/COVID-19 Radiography Database/Viral Pneumonia', 'filename': None, 'class': 'Viral Pneumonia'}, {'path': '/Users/igorbeduin/Google Drive/tg2_COVIDNet/datasets/COVID-19 Radiography Database/Viral Pneumonia', 'filename': None, 'class': 'Viral Pneumonia'}, {'path': '/Users/igorbeduin/Google Drive/tg2_COVIDNet/datasets/COVID-19 Radiography Database/Viral Pneumonia', 'filename': None, 'class': 'Viral Pneumonia'}, {'path': '/Users/igorbeduin/Google Drive/tg2_COVIDNet/datasets/COVID-19 Radiography Database/Viral Pneumonia', 'filename': None, 'class': 'Viral Pneumonia'}, {'path': '/Users/igorbeduin/Google Drive/tg2_COVIDNet/datasets/COVID-19 Radiography Database/Viral Pneumonia', 'filename': None, 'class': 'Viral Pneumonia'}, {'path': '/Users/igorbeduin/Google Drive/tg2_COVIDNet/datasets/COVID-19 Radiography Database/Viral Pneumonia', 'filename': None, 'class': 'Viral Pneumonia'}, {'path': '/Users/igorbeduin/Google Drive/tg2_COVIDNet/datasets/COVID-19 Radiography Database/Viral Pneumonia', 'filename': None, 'class': 'Viral Pneumonia'}, {'path': '/Users/igorbeduin/Google Drive/tg2_COVIDNet/datasets/COVID-19 Radiography Database/Viral Pneumonia', 'filename': None, 'class': 'Viral Pneumonia'}, {'path': '/Users/igorbeduin/Google Drive/tg2_COVIDNet/datasets/COVID-19 Radiography Database/Viral Pneumonia', 'filename': None, 'class': 'Viral Pneumonia'}, {'path': '/Users/igorbeduin/Google Drive/tg2_COVIDNet/datasets/COVID-19 Radiography Database/Viral Pneumonia', 'filename': None, 'class': 'Viral Pneumonia'}, {'path': '/Users/igorbeduin/Google Drive/tg2_COVIDNet/datasets/COVID-19 Radiography Database/Viral Pneumonia', 'filename': None, 'class': 'Viral Pneumonia'}, {'path': '/Users/igorbeduin/Google Drive/tg2_COVIDNet/datasets/COVID-19 Radiography Database/Viral Pneumonia', 'filename': None, 'class': 'Viral Pneumonia'}, {'path': '/Users/igorbeduin/Google Drive/tg2_COVIDNet/datasets/COVID-19 Radiography Database/Viral Pneumonia', 'filename': None, 'class': 'Viral Pneumonia'}, {'path': '/Users/igorbeduin/Google Drive/tg2_COVIDNet/datasets/COVID-19 Radiography Database/Viral Pneumonia', 'filename': None, 'class': 'Viral Pneumonia'}, {'path': '/Users/igorbeduin/Google Drive/tg2_COVIDNet/datasets/COVID-19 Radiography Database/Viral Pneumonia', 'filename': None, 'class': 'Viral Pneumonia'}, {'path': '/Users/igorbeduin/Google Drive/tg2_COVIDNet/datasets/COVID-19 Radiography Database/Viral Pneumonia', 'filename': None, 'class': 'Viral Pneumonia'}, {'path': '/Users/igorbeduin/Google Drive/tg2_COVIDNet/datasets/COVID-19 Radiography Database/Viral Pneumonia', 'filename': None, 'class': 'Viral Pneumonia'}, {'path': '/Users/igorbeduin/Google Drive/tg2_COVIDNet/datasets/COVID-19 Radiography Database/Viral Pneumonia', 'filename': None, 'class': 'Viral Pneumonia'}]\n34188\n"
     ]
    }
   ],
   "source": [
    "for item in file_table: print(item)"
   ]
  },
  {
   "cell_type": "code",
   "execution_count": null,
   "metadata": {},
   "outputs": [],
   "source": [
    "print(len(file_table))"
   ]
  }
 ],
 "metadata": {
  "kernelspec": {
   "name": "Python 3.8.2 64-bit ('covidnet_venv': venv)",
   "display_name": "Python 3.8.2 64-bit ('covidnet_venv': venv)",
   "metadata": {
    "interpreter": {
     "hash": "2319ac1fc843b376d949fb3f1e78ad67d4deed76fd11d7e5ca5cadb5722008fa"
    }
   }
  },
  "language_info": {
   "codemirror_mode": {
    "name": "ipython",
    "version": 3
   },
   "file_extension": ".py",
   "mimetype": "text/x-python",
   "name": "python",
   "nbconvert_exporter": "python",
   "pygments_lexer": "ipython3",
   "version": "3.8.2-final"
  }
 },
 "nbformat": 4,
 "nbformat_minor": 4
}