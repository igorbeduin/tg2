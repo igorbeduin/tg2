{
 "cells": [
  {
   "source": [
    "IMPORTS DAS BIBLIOTECAS"
   ],
   "cell_type": "markdown",
   "metadata": {}
  },
  {
   "cell_type": "code",
   "execution_count": 1,
   "metadata": {},
   "outputs": [],
   "source": [
    "import numpy as np\n",
    "import pandas as pd\n",
    "import os\n",
    "import random \n",
    "import pydicom as dicom\n",
    "import cv2"
   ]
  },
  {
   "source": [
    "IMPORT DAS CLASSES ESPECÍFICAS"
   ],
   "cell_type": "markdown",
   "metadata": {}
  },
  {
   "cell_type": "code",
   "execution_count": 2,
   "metadata": {},
   "outputs": [],
   "source": [
    "from datasets import rsna, actualmed, cohen, fig1, sirm\n",
    "from ds_utils import mount_dataset, filter_dataset"
   ]
  },
  {
   "source": [
    "CONSTROI OS OBJ DE CADA DS"
   ],
   "cell_type": "markdown",
   "metadata": {}
  },
  {
   "cell_type": "code",
   "execution_count": 3,
   "metadata": {},
   "outputs": [],
   "source": [
    "datasets_path = os.path.join(os.getcwd(), \"datasets\")\n",
    "\n",
    "cohen = cohen(datasets_path)\n",
    "rsna = rsna(datasets_path)\n",
    "actualmed = actualmed(datasets_path)\n",
    "fig1 = fig1(datasets_path)\n",
    "sirm = sirm(datasets_path)"
   ]
  },
  {
   "source": [
    "LE CADA DS E CONSTROI SUA TABELA APLICANDO AS FUNCOES NECESSARIAS"
   ],
   "cell_type": "markdown",
   "metadata": {}
  },
  {
   "cell_type": "code",
   "execution_count": 4,
   "metadata": {},
   "outputs": [
    {
     "output_type": "stream",
     "name": "stdout",
     "text": [
      "Dataset: COHEN\n-----------------------------------------\nImagens lidas: 763\nContagem de cada classe por dataset: {'COVID-19': 456, 'ARDS': 5, 'SARS': 16, 'Pneumocystis': 24, 'Streptococcus': 18, 'No Finding': 17, 'Chlamydophila': 1, 'E.Coli': 4, 'COVID-19, ARDS': 12, 'Klebsiella': 9, 'Legionella': 7, 'Unknown': 1, 'Pneumonia': 17, 'Lipoid': 8, 'Varicella': 5, 'Bacterial': 2, 'Mycoplasma Bacterial Pneumonia': 5, 'Influenza': 3, 'Cryptogenic Organizing Pneumonia': 10, 'Lobar Pneumonia': 5, 'Multilobar Pneumonia': 3, 'Organizing Pneumonia': 1, 'Eosinophilic Pneumonia': 2, 'Unusual Interstitial Pneumonia': 1, 'Lymphocytic Interstitial Pneumonia': 2, 'Desquamative Interstitial Pneumonia': 1, 'todo': 83, 'Spinal Tuberculosis': 1, 'Swine-Origin Influenza A (H1N1) Viral Pneumonia': 1, 'Tuberculosis': 10, 'Invasive Aspergillosis': 1, 'Herpes pneumonia': 2, 'Herpes pneumonia, ARDS': 1, 'Accelerated Phase Usual Interstitial Pneumonia': 2, 'Round pneumonia': 1, 'Lymphocytic interstitial pneumonia': 1, 'Allergic bronchopulmonary aspergillosis ': 1, 'Cryptogenic organising pneumonia': 2, 'Chronic eosinophilic pneumonia': 3, 'Aspiration pneumonia': 1, 'Nocardia': 4, 'MERS-CoV': 10, 'Eosinophilic pneumonia': 2, 'Cryptogenic organizing pneumonia': 1, 'MRSA': 1}\n\nDataset: ACTUALMED\n-----------------------------------------\nImagens lidas: 238\nContagem de cada classe por dataset: {nan: 53, 'No finding': 127, 'COVID-19': 58}\n\nDataset: FIG1\n-----------------------------------------\nImagens lidas: 55\nContagem de cada classe por dataset: {'COVID-19': 35, nan: 15, 'No finding': 3, 'Pneumonia': 2}\n\nTotal de imagens: 1056\n"
     ]
    }
   ],
   "source": [
    "file_table = []\n",
    "datasets = [cohen, actualmed, fig1]\n",
    "for ds in datasets:\n",
    "    ds.read()\n",
    "    ds.prefilter()\n",
    "    ds.mount_table()\n",
    "    print(f\"Dataset: {ds.__name__.upper()}\")\n",
    "    print(\"-----------------------------------------\")\n",
    "    print(f\"Imagens lidas: {ds.count}\")\n",
    "    print(f\"Contagem de cada classe por dataset: {ds.count_table}\\n\")\n",
    "    for item in ds.table: file_table.append(item)\n",
    "print(f\"Total de imagens: {len(file_table)}\")\n",
    "\n"
   ]
  },
  {
   "cell_type": "code",
   "execution_count": 5,
   "metadata": {},
   "outputs": [
    {
     "output_type": "stream",
     "name": "stdout",
     "text": [
      "Total de imagens: 904\nContagem de cada classe por dataset: {'COVID-19': 549, 'Pneumonia': 213, 'COVID-19, ARDS': 12, 'Normal': 130}\n"
     ]
    }
   ],
   "source": [
    "target_classes = [\"COVID-19\", \"COVID-19, ARDS\", \"Pneumonia\"] # Classes a serem preservadas na table\n",
    "remove_classes = [\"todo\", \"nan\", \"Unknown\"] # Classes a serem retiradas da table\n",
    "mapping = {\"No finding\": \"Normal\", \"std\": \"Pneumonia\"} # Mapeamento de classes. \"std\" representa o caso padrão\n",
    "\n",
    "file_table, count_table = filter_dataset(file_table, target_classes, remove_classes, mapping)\n",
    "print(f\"Total de imagens: {len(file_table)}\")\n",
    "print(f\"Contagem de cada classe por dataset: {count_table}\")"
   ]
  },
  {
   "source": [
    "dst_path = \"./target_dataset\"\n",
    "mount_dataset(dst_path, file_table)"
   ],
   "cell_type": "code",
   "metadata": {},
   "execution_count": 24,
   "outputs": []
  }
 ],
 "metadata": {
  "kernelspec": {
   "name": "Python 3.8.2 64-bit ('covidnet_venv': venv)",
   "display_name": "Python 3.8.2 64-bit ('covidnet_venv': venv)",
   "metadata": {
    "interpreter": {
     "hash": "2319ac1fc843b376d949fb3f1e78ad67d4deed76fd11d7e5ca5cadb5722008fa"
    }
   }
  },
  "language_info": {
   "codemirror_mode": {
    "name": "ipython",
    "version": 3
   },
   "file_extension": ".py",
   "mimetype": "text/x-python",
   "name": "python",
   "nbconvert_exporter": "python",
   "pygments_lexer": "ipython3",
   "version": "3.8.2-final"
  }
 },
 "nbformat": 4,
 "nbformat_minor": 4
}