{
 "metadata": {
  "language_info": {
   "codemirror_mode": {
    "name": "ipython",
    "version": 3
   },
   "file_extension": ".py",
   "mimetype": "text/x-python",
   "name": "python",
   "nbconvert_exporter": "python",
   "pygments_lexer": "ipython3",
   "version": "3.8.2-final"
  },
  "orig_nbformat": 2,
  "kernelspec": {
   "name": "python3",
   "display_name": "Python 3.8.2 64-bit ('venv')",
   "metadata": {
    "interpreter": {
     "hash": "b5779ebc7748016611e7d9459d1e778916031f832530e91ac808b9de26f1cd72"
    }
   }
  }
 },
 "nbformat": 4,
 "nbformat_minor": 2,
 "cells": [
  {
   "cell_type": "code",
   "execution_count": null,
   "metadata": {},
   "outputs": [],
   "source": [
    "from sklearn.metrics import classification_report\n",
    "from sklearn.metrics import confusion_matrix\n",
    "from sklearn.metrics import average_precision_score\n",
    "from sklearn.metrics import roc_auc_score\n",
    "\n",
    "from tensorflow.keras.models import load_model\n",
    "import autokeras as ak\n",
    "import numpy as np\n",
    "import os\n",
    "\n",
    "# ds_arrays_path = '/content/drive/MyDrive/TG/dataset_arraysTRAINING'\n",
    "models_path = '/Volumes/SAMSUNG/Igor/TG/training'\n",
    "ds_arrays_path = '/Users/igorbeduin/Google Drive (beduinigor@gmail.com)/TG/dataset_arraysTRAINING'\n",
    "\n",
    "optimizers = ['sgd', 'Adam']\n",
    "ds_train = ['raw', 'augmented']\n",
    "\n",
    "n_fold = 5\n",
    "\n",
    "for opt in optimizers:\n",
    "    opt_path = os.path.join(models_path, opt)\n",
    "    for ds in ds_train:\n",
    "        ds_path = os.path.join(opt_path, ds)\n",
    "        for i in range(1, n_fold + 1):\n",
    "            fold_path = os.path.join(ds_path, 'models', f'fold_{i}')\n",
    "            files_list = os.listdir(fold_path)\n",
    "            for f in files_list:\n",
    "                if 'model' in f:\n",
    "                    \n",
    "                    print(f'Opt: {opt}, DS: {ds}, filename: {f}')\n",
    "\n",
    "                    model_path = os.path.join(fold_path, f)\n",
    "                    model = load_model(model_path)\n",
    "\n",
    "                    X_test = np.load(os.path.join(ds_arrays_path,'x_test_data.npy'))\n",
    "                    y_test = np.load(os.path.join(ds_arrays_path,'y_test_data.npy'))\n",
    "\n",
    "                    predictions = model.predict(x=X_test)\n",
    "                    num_predictions = np.argmax(predictions, axis=-1)\n",
    "                    print(classification_report(y_test, num_predictions))\n",
    "                    print(confusion_matrix(y_test, num_predictions))\n",
    "                    # print(average_precision_score(y_test, num_predictions))"
   ]
  },
  {
   "cell_type": "code",
   "execution_count": null,
   "metadata": {},
   "outputs": [],
   "source": []
  }
 ]
}